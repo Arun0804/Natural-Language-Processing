{
 "cells": [
  {
   "cell_type": "markdown",
   "id": "951f6ea8-8244-4dbd-800f-749774683b06",
   "metadata": {},
   "source": [
    "Import nltk"
   ]
  },
  {
   "cell_type": "code",
   "execution_count": 33,
   "id": "d35a5057-a378-425b-b8c0-9c792f45966b",
   "metadata": {},
   "outputs": [],
   "source": [
    "import nltk"
   ]
  },
  {
   "cell_type": "markdown",
   "id": "478cad48-8f3d-4123-8370-9fcc941ae780",
   "metadata": {},
   "source": [
    "Replacer Module"
   ]
  },
  {
   "cell_type": "code",
   "execution_count": 58,
   "id": "2b6d3ce9-f368-4aaf-9ce5-23a5e93a6f4a",
   "metadata": {},
   "outputs": [],
   "source": [
    "R_patterns = [\n",
    "   (r\"won't\", \"will not\"),\n",
    "   (r\"can't\", \"cannot\"),\n",
    "   (r\"i'm\", \"i am\"),\n",
    "   (r\"(\\w+)'ll\", r\"\\g<1> will\"),\n",
    "   (r\"(\\w+)'nt\", r\"\\g<1> not\"),\n",
    "   (r\"(\\w+)'ve\", r\"\\g<1> have\"),\n",
    "   (r\"(\\w+)'s\", r\"\\g<1> is\"),\n",
    "   (r\"(\\w+)'re\", r\"\\g<1> are\"),\n",
    "]\n",
    "\n",
    "# Define the REReplacer class\n",
    "class REReplacer:\n",
    "    def __init__(self, patterns=R_patterns):\n",
    "        self.patterns = [(re.compile(regex), repl) for (regex, repl) in patterns]\n",
    "\n",
    "    def replace(self, text):\n",
    "        s = text\n",
    "        for (pattern, repl) in self.patterns:\n",
    "            s = re.sub(pattern, repl, s)\n",
    "        return s"
   ]
  },
  {
   "cell_type": "code",
   "execution_count": 35,
   "id": "b75217b9-7ff2-473d-832d-636b180ffc9d",
   "metadata": {},
   "outputs": [
    {
     "name": "stderr",
     "output_type": "stream",
     "text": [
      "[nltk_data] Downloading package stopwords to\n",
      "[nltk_data]     C:\\Users\\91986\\AppData\\Roaming\\nltk_data...\n",
      "[nltk_data]   Package stopwords is already up-to-date!\n"
     ]
    },
    {
     "data": {
      "text/plain": [
       "True"
      ]
     },
     "execution_count": 35,
     "metadata": {},
     "output_type": "execute_result"
    }
   ],
   "source": [
    "nltk.download('stopwords')"
   ]
  },
  {
   "cell_type": "code",
   "execution_count": 36,
   "id": "41adb545-10c5-410f-a147-a8981729ae52",
   "metadata": {},
   "outputs": [
    {
     "name": "stdout",
     "output_type": "stream",
     "text": [
      "Enter critical value:2.57\n"
     ]
    }
   ],
   "source": [
    "import string\n",
    "import nltk,re\n",
    "import math\n",
    "import numpy as np\n",
    "from nltk.corpus import stopwords\n",
    "\n",
    "critic_value = float(input(\"Enter critical value:\"))"
   ]
  },
  {
   "cell_type": "code",
   "execution_count": 37,
   "id": "8ae11779-ce26-4813-a775-6d59ff13c37b",
   "metadata": {},
   "outputs": [],
   "source": [
    "stop_words = set(stopwords.words('english'))"
   ]
  },
  {
   "cell_type": "markdown",
   "id": "9eb65aac-916b-4a2a-872e-0536ffcd359b",
   "metadata": {},
   "source": [
    "Importing the Data"
   ]
  },
  {
   "cell_type": "code",
   "execution_count": 43,
   "id": "a71d779a",
   "metadata": {},
   "outputs": [
    {
     "name": "stdout",
     "output_type": "stream",
     "text": [
      "she knocked the door\n",
      "they knocked at the door\n",
      "a man knocked on the metal front door\n",
      "she knocked door\n"
     ]
    }
   ],
   "source": [
    "file = open(\"Text.txt\",\"r\")\n",
    "text = file.read()\n",
    "print(text)"
   ]
  },
  {
   "cell_type": "markdown",
   "id": "57d3ba4c-1852-4490-8f98-86c1aba5d166",
   "metadata": {},
   "source": [
    "\n",
    "Sentence Tokenization"
   ]
  },
  {
   "cell_type": "code",
   "execution_count": 44,
   "id": "c581d0aa-7119-41b6-b911-ed3566278784",
   "metadata": {},
   "outputs": [
    {
     "name": "stderr",
     "output_type": "stream",
     "text": [
      "[nltk_data] Downloading package punkt to\n",
      "[nltk_data]     C:\\Users\\91986\\AppData\\Roaming\\nltk_data...\n",
      "[nltk_data]   Package punkt is already up-to-date!\n"
     ]
    },
    {
     "data": {
      "text/plain": [
       "True"
      ]
     },
     "execution_count": 44,
     "metadata": {},
     "output_type": "execute_result"
    }
   ],
   "source": [
    "nltk.download('punkt')"
   ]
  },
  {
   "cell_type": "code",
   "execution_count": 45,
   "id": "996f175c-9bd3-4634-b89b-5ee32fcf5324",
   "metadata": {},
   "outputs": [],
   "source": [
    "sents = nltk.sent_tokenize(text)"
   ]
  },
  {
   "cell_type": "code",
   "execution_count": 73,
   "id": "8dd283d1",
   "metadata": {},
   "outputs": [
    {
     "data": {
      "text/plain": [
       "['she knocked the door\\nthey knocked at the door\\na man knocked on the metal front door\\nshe knocked door']"
      ]
     },
     "execution_count": 73,
     "metadata": {},
     "output_type": "execute_result"
    }
   ],
   "source": [
    "sents"
   ]
  },
  {
   "cell_type": "markdown",
   "id": "2d36a322-a7fe-49e4-a1ff-9d6d7ed52d75",
   "metadata": {},
   "source": [
    "Punctuation Removal"
   ]
  },
  {
   "cell_type": "code",
   "execution_count": 59,
   "id": "1438678c-7f5b-4d47-b116-34d8b7463e47",
   "metadata": {},
   "outputs": [],
   "source": [
    "sents_1 = []\n",
    "rep_word = REReplacer()\n",
    "for i in sents:\n",
    "    n = rep_word.replace(i)\n",
    "    n = n.translate(str.maketrans('', '', string.punctuation))\n",
    "    sents_1.append(n)"
   ]
  },
  {
   "cell_type": "code",
   "execution_count": 60,
   "id": "f8118dcd-f09b-4361-8c1a-e2b7306d372e",
   "metadata": {},
   "outputs": [
    {
     "data": {
      "text/plain": [
       "['she knocked the door\\nthey knocked at the door\\na man knocked on the metal front door\\nshe knocked door']"
      ]
     },
     "execution_count": 60,
     "metadata": {},
     "output_type": "execute_result"
    }
   ],
   "source": [
    "sents_1"
   ]
  },
  {
   "cell_type": "markdown",
   "id": "f33416a6-565a-4b32-a526-c4e503b64501",
   "metadata": {},
   "source": [
    "Word Tokenization"
   ]
  },
  {
   "cell_type": "code",
   "execution_count": 48,
   "id": "53ec701c-2388-4a48-aac6-204d386bbd69",
   "metadata": {},
   "outputs": [],
   "source": [
    "ws = []\n",
    "for j in sents_1:\n",
    "    sent = nltk.word_tokenize(j)\n",
    "    for s in sent:\n",
    "        ws.append(s)"
   ]
  },
  {
   "cell_type": "markdown",
   "id": "29afa7f9-7284-4873-a353-c987e957b5a8",
   "metadata": {},
   "source": [
    "Stopwords Removal"
   ]
  },
  {
   "cell_type": "code",
   "execution_count": 49,
   "id": "7bec7dfa-0d3a-469c-8525-a7c6fb27b541",
   "metadata": {},
   "outputs": [],
   "source": [
    "texts = []\n",
    "for w in ws:\n",
    "    if w not in stop_words:\n",
    "        texts.append(w)"
   ]
  },
  {
   "cell_type": "code",
   "execution_count": 50,
   "id": "3d4f4436-e6e8-43ee-b30c-cd9e3add151e",
   "metadata": {},
   "outputs": [
    {
     "name": "stdout",
     "output_type": "stream",
     "text": [
      "['knocked', 'door', 'knocked', 'door', 'man', 'knocked', 'metal', 'front', 'door', 'knocked', 'door']\n"
     ]
    }
   ],
   "source": [
    "print(texts)\n",
    "N = len(texts)"
   ]
  },
  {
   "cell_type": "markdown",
   "id": "a159bbd0-6f8f-4921-a5e0-4ad2af9f330d",
   "metadata": {},
   "source": [
    "Finding Frequency and Probability of a word"
   ]
  },
  {
   "cell_type": "code",
   "execution_count": 51,
   "id": "5e31f63c-1d68-4ab3-a3a4-f091aa1b0e8f",
   "metadata": {},
   "outputs": [],
   "source": [
    "vocabulary = []\n",
    "for word in texts :\n",
    "    if word not in vocabulary:\n",
    "        vocabulary.append(word)\n",
    "voc_len = len(vocabulary)"
   ]
  },
  {
   "cell_type": "code",
   "execution_count": 52,
   "id": "c9a21769-a9cb-4762-a649-3494a6880783",
   "metadata": {},
   "outputs": [
    {
     "name": "stdout",
     "output_type": "stream",
     "text": [
      "Unique words: 5\n",
      "Total words: 11\n"
     ]
    }
   ],
   "source": [
    "print(\"Unique words:\",voc_len)\n",
    "print(\"Total words:\",N)"
   ]
  },
  {
   "cell_type": "markdown",
   "id": "1c9f3715-813c-4553-8925-ebb85619760b",
   "metadata": {},
   "source": [
    "Preparation for t-test"
   ]
  },
  {
   "cell_type": "code",
   "execution_count": 53,
   "id": "3d0c5e9e-44ac-44c7-b95f-3ce0edc032c0",
   "metadata": {},
   "outputs": [],
   "source": [
    "def T_test(w1,w2,c1,c2,c12):\n",
    "\n",
    "    p_w1 = c1/N\n",
    "    p_w2 = c2/N\n",
    "\n",
    "    exp_mean = p_w1*p_w2 #expected mean\n",
    "\n",
    "    ob_mean = c12/N #observed mean\n",
    "    s_2 = ob_mean #s^2\n",
    "    diff =  ob_mean - exp_mean\n",
    "    v = math.sqrt((s_2/N))\n",
    "    t = diff/v\n",
    "    t = round(t, 2)\n",
    "    d = {}\n",
    "    d['t-value'] = t\n",
    "    d['word1'] = w1\n",
    "    d['word2'] = w2\n",
    "    return d"
   ]
  },
  {
   "cell_type": "markdown",
   "id": "56d354c3-9f2f-42f2-8ab8-33216a6c6df7",
   "metadata": {},
   "source": [
    "Preparation for chi^2-test"
   ]
  },
  {
   "cell_type": "code",
   "execution_count": 54,
   "id": "a4f5843b-15a4-4fb7-98ab-d37abd127973",
   "metadata": {},
   "outputs": [],
   "source": [
    "def chi_2_test(w1,w2,c1,c2,c12):\n",
    "    a = c12\n",
    "    b = c1 - a\n",
    "    cx = c2 - a\n",
    "    r2 = N - c1\n",
    "    d = r2 - cx\n",
    "    r1 = a+b\n",
    "    e = a+cx\n",
    "    f = b+d\n",
    "\n",
    "    e_w1 = (r1*e)/N\n",
    "    e_w2 = (r1*f)/N\n",
    "    e_w3 = (e*r2)/N\n",
    "    e_w4 = (f*r2)/N\n",
    "    sum1 = (np.square(a-e_w1))/e_w1\n",
    "    sum2 = (np.square(b-e_w2))/e_w2\n",
    "    sum3 = (np.square(cx-e_w3))/e_w3\n",
    "    sum4 = (np.square(d-e_w4))/e_w4\n",
    "\n",
    "\n",
    "    c = {}\n",
    "    c['chi-value'] = sum1 + sum2 + sum3 + sum4\n",
    "    c['word1'] = w1\n",
    "    c['word2'] = w2\n",
    "    return c"
   ]
  },
  {
   "cell_type": "code",
   "execution_count": 67,
   "id": "b9b7475c-9b18-49be-a71f-fd16913f62e4",
   "metadata": {},
   "outputs": [],
   "source": [
    "ttest = []\n",
    "chi2test=[]\n",
    "for i in range(len(texts)-1):\n",
    "    w1=texts[i]\n",
    "    w2=texts[i+1]\n",
    "    w12 = w1 +\" \"+ w2\n",
    "    c1 = 0\n",
    "    c2 = 0\n",
    "    c12 = 0\n",
    "    for w in range(len(texts)-1):\n",
    "        if texts[w] == w1:\n",
    "            c1 = c1+1\n",
    "            if texts[w+1] == w2:\n",
    "                c12 = c12+1\n",
    "        if texts[w] == w2:\n",
    "            c2 = c2+1\n",
    "    ttest.append(T_test(w1,w2,c1,c2,c12))\n",
    "    chi2test.append(chi_2_test(w1,w2,c1,c2,c12))"
   ]
  },
  {
   "cell_type": "markdown",
   "id": "337b5be6-27ee-450d-8ec4-8660bb3977ff",
   "metadata": {},
   "source": [
    "Print t-test"
   ]
  },
  {
   "cell_type": "code",
   "execution_count": 68,
   "id": "80af7d33-55af-4051-b06b-e8b7f8b1882a",
   "metadata": {},
   "outputs": [
    {
     "name": "stdout",
     "output_type": "stream",
     "text": [
      "t-test:\n",
      "\n",
      "t-value: 1.1 \t Words:  knocked and door  are not collocated!\n",
      "t-value: 0.64 \t Words:  door and knocked  are not collocated!\n",
      "t-value: 1.1 \t Words:  knocked and door  are not collocated!\n",
      "t-value: 0.73 \t Words:  door and man  are not collocated!\n",
      "t-value: 0.64 \t Words:  man and knocked  are not collocated!\n",
      "t-value: 0.64 \t Words:  knocked and metal  are not collocated!\n",
      "t-value: 0.91 \t Words:  metal and front  are not collocated!\n",
      "t-value: 0.73 \t Words:  front and door  are not collocated!\n",
      "t-value: 0.64 \t Words:  door and knocked  are not collocated!\n",
      "t-value: 1.1 \t Words:  knocked and door  are not collocated!\n"
     ]
    }
   ],
   "source": [
    "print(\"t-test:\\n\")\n",
    "for d in ttest:\n",
    "    if d['t-value'] > critic_value:\n",
    "        print(\"t-value:\",d['t-value'],\"\\t Words: \",d['word1'],\"and\",d['word2'],\" are collocated!\",end = \"\\n\")\n",
    "    else:\n",
    "        print(\"t-value:\",d['t-value'],\"\\t Words: \",d['word1'],\"and\",d['word2'], \" are not collocated!\",end = \"\\n\")"
   ]
  },
  {
   "cell_type": "markdown",
   "id": "fe1c70de-833b-4f37-9ca6-b8d449f4f7ee",
   "metadata": {},
   "source": [
    "Print Chi^2 test"
   ]
  },
  {
   "cell_type": "code",
   "execution_count": 69,
   "id": "9f05aa9c-1bea-4e3d-9af1-ea1af1ca232b",
   "metadata": {},
   "outputs": [
    {
     "name": "stdout",
     "output_type": "stream",
     "text": [
      "chi^2-test:\n",
      "\n",
      "chi-value: 7.218750000000001 \t Words:  knocked and door  are collocated!\n",
      "chi-value: 1.6369047619047623 \t Words:  door and knocked  are not collocated!\n",
      "chi-value: 7.218750000000001 \t Words:  knocked and door  are collocated!\n",
      "chi-value: 2.933333333333333 \t Words:  door and man  are collocated!\n",
      "chi-value: 1.925 \t Words:  man and knocked  are not collocated!\n",
      "chi-value: 1.925 \t Words:  knocked and metal  are not collocated!\n",
      "chi-value: 10.999999999999996 \t Words:  metal and front  are collocated!\n",
      "chi-value: 2.9333333333333336 \t Words:  front and door  are collocated!\n",
      "chi-value: 1.6369047619047623 \t Words:  door and knocked  are not collocated!\n",
      "chi-value: 7.218750000000001 \t Words:  knocked and door  are collocated!\n"
     ]
    }
   ],
   "source": [
    "print(\"chi^2-test:\\n\")\n",
    "for d in chi2test:\n",
    "    if d['chi-value'] > critic_value:\n",
    "        print(\"chi-value:\",d['chi-value'],\"\\t Words: \",d['word1'],\"and\",d['word2'],\" are collocated!\",end = \"\\n\")\n",
    "    else:\n",
    "        print(\"chi-value:\",d['chi-value'],\"\\t Words: \",d['word1'],\"and\",d['word2'], \" are not collocated!\",end = \"\\n\")"
   ]
  },
  {
   "cell_type": "code",
   "execution_count": 61,
   "id": "f50fa9f4-470c-4780-8337-feef321d43d6",
   "metadata": {},
   "outputs": [
    {
     "data": {
      "text/plain": [
       "['she',\n",
       " 'knocked',\n",
       " 'the',\n",
       " 'door',\n",
       " 'they',\n",
       " 'knocked',\n",
       " 'at',\n",
       " 'the',\n",
       " 'door',\n",
       " 'a',\n",
       " 'man',\n",
       " 'knocked',\n",
       " 'on',\n",
       " 'the',\n",
       " 'metal',\n",
       " 'front',\n",
       " 'door',\n",
       " 'she',\n",
       " 'knocked',\n",
       " 'door']"
      ]
     },
     "execution_count": 61,
     "metadata": {},
     "output_type": "execute_result"
    }
   ],
   "source": [
    "ws"
   ]
  },
  {
   "cell_type": "code",
   "execution_count": 62,
   "id": "87f42deb",
   "metadata": {},
   "outputs": [
    {
     "data": {
      "text/plain": [
       "11"
      ]
     },
     "execution_count": 62,
     "metadata": {},
     "output_type": "execute_result"
    }
   ],
   "source": [
    "N"
   ]
  },
  {
   "cell_type": "code",
   "execution_count": null,
   "id": "130ccd7d",
   "metadata": {},
   "outputs": [],
   "source": []
  }
 ],
 "metadata": {
  "kernelspec": {
   "display_name": "Python 3 (ipykernel)",
   "language": "python",
   "name": "python3"
  },
  "language_info": {
   "codemirror_mode": {
    "name": "ipython",
    "version": 3
   },
   "file_extension": ".py",
   "mimetype": "text/x-python",
   "name": "python",
   "nbconvert_exporter": "python",
   "pygments_lexer": "ipython3",
   "version": "3.11.5"
  }
 },
 "nbformat": 4,
 "nbformat_minor": 5
}
