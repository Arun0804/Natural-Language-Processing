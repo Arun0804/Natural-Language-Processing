{
 "cells": [
  {
   "cell_type": "code",
   "execution_count": 1,
   "id": "80a0a407-e2a6-47ee-8e11-1c31a003f508",
   "metadata": {},
   "outputs": [
    {
     "name": "stdout",
     "output_type": "stream",
     "text": [
      "  She walked into the room with a phone in her hand.\n",
      "0  The chef cooked dinner, chopping vegetables an...\n",
      "1  John entered the cafe with a phone tucked into...\n",
      "2  She stood in line, chatting with the person ah...\n",
      "3  The teenager sat on the bench with a phone in ...\n",
      "4  The researcher conducted experiments, carefull...\n"
     ]
    }
   ],
   "source": [
    "import nltk\n",
    "import math\n",
    "import numpy as np\n",
    "import pandas as pd\n",
    "from nltk.tokenize import word_tokenize\n",
    "from nltk.corpus import stopwords\n",
    "from collections import Counter\n",
    "from nltk.util import bigrams\n",
    "\n",
    "df = pd.read_csv(r\"C:\\Users\\Dell\\Downloads\\Attachment ambiguity WITH.csv\",encoding='latin-1') \n",
    "print(df.head())"
   ]
  },
  {
   "cell_type": "code",
   "execution_count": 3,
   "id": "fdc31fb9-3d08-4e60-8914-fc8a2525bf58",
   "metadata": {},
   "outputs": [],
   "source": [
    "text = \" \".join(df.astype(str).values.flatten())\n",
    "words=word_tokenize(text)"
   ]
  },
  {
   "cell_type": "code",
   "execution_count": 7,
   "id": "12c1fb3b-f140-4b77-864b-d72d80f651c2",
   "metadata": {},
   "outputs": [
    {
     "name": "stdout",
     "output_type": "stream",
     "text": [
      "Counter({'the': 104, 'a': 80, 'with': 65, 'phone': 59, 'and': 43, 'saw': 40, 'to': 27, 'in': 27, 'on': 23, 'The': 22, 'She': 17, 'They': 16, 'He': 16, 'of': 15, 'went': 15, 'her': 13, 'through': 12, 'occasionally': 11, 'their': 9, 'at': 8, 'his': 7, 'entered': 6, 'pocket': 6, 'sat': 6, 'hand': 5, 'down': 5, 'for': 5, 'room': 5, 'John': 4, 'into': 4, 'Sarah': 4, 'from': 4, 'walked': 4, 'every': 4, 'sense': 4, 'tucked': 3, 'person': 3, 'ahead': 3, 'street': 3, 'buzzing': 3, 'greeted': 3, 'by': 3, 'sight': 3, 'glancing': 3, 'table': 3, 'park': 3, 'around': 3, 'museum': 3, 'coffee': 3, 'call': 3, 'stage': 3, 'world': 3, 'chef': 2, 'cooked': 2, 'dinner': 2, 'referring': 2, 'recipes': 2, 'up': 2, 'counter': 2, 'cafe': 2, 'stood': 2, 'line': 2, 'checking': 2, 'teenager': 2, 'bench': 2, 'researcher': 2, 'conducted': 2, 'experiments': 2, 'hurried': 2, 'car': 2, 'adjusting': 2, 'connected': 2, 'stereo': 2, 'system': 2, 'delivery': 2, 'arrived': 2, 'doorstep': 2, 'doctor': 2, 'examination': 2, 'rushed': 2, 'airport': 2, 'drove': 2, 'highway': 2, 'mounted': 2, 'dashboard': 2, 'meeting': 2, 'strolled': 2, 'purse': 2, 'child': 2, 'ran': 2, 'playground': 2, 'wandered': 2, 'café': 2, 'lying': 2, 'beside': 2, 'librarian': 2, 'aisles': 2, 'books': 2, 'pausing': 2, 'approached': 2, 'podium': 2, 'musician': 2, 'performed': 2, 'nearby': 2, 'placed': 2, 'conference': 2, 'ready': 2, 'wonder': 2, 'eye': 2, 'artist': 2, 'beauty': 2, 'fresh': 2, 'ancient': 2, 'artifacts': 2, 'an': 2, 'chopping': 1, 'vegetables': 1, 'propped': 1, 'chatting': 1, 'time': 1, 'lost': 1, 'thought': 1, 'carefully': 1, 'documenting': 1, 'findings': 1, 'notes': 1, 'pressed': 1, 'ear': 1, 'discussing': 1, 'plans': 1, 'day': 1, 'volume': 1, 'patient': 1, 'desk': 1, 'clutched': 1, 'tightly': 1, 'singing': 1, 'along': 1, 'radio': 1, 'navigation': 1, 'resting': 1, 'enjoying': 1, 'sunshine': 1, 'messages': 1, 'dangling': 1, 'backpack': 1, 'admiring': 1, 'artwork': 1, 'snapping': 1, 'photos': 1, 'camera': 1, 'cup': 1, 'shelving': 1, 'answer': 1, 'clipped': 1, 'belt': 1, 'inner': 1, 'suit': 1, 'strumming': 1, 'guitar': 1, 'stand': 1, 'amplifier': 1, 'microphone': 1, 'clearing': 1, 'throat': 1, 'before': 1, 'reaching': 1, 'peeking': 1, 'out': 1, 'sipping': 1, 'capturing': 1, 'exhibit': 1, 'laughing': 1, 'friends': 1, 'take': 1, 'playing': 1, 'music': 1, 'sound': 1, 'chatter': 1, 'lighting': 1, 'searching': 1, 'gate': 1, 'one': 1, 'boarding': 1, 'pass': 1, 'other': 1, 'lab': 1, 'coat': 1, 'holding': 1, 'package': 1, 'struggling': 1, 'juggle': 1, 'groceries': 1, 'ringing': 1, 'bag': 1, 'recording': 1, 'step': 1, 'engrossed': 1, 'book': 1, 'forgotten': 1, 'them': 1, 'make': 1, 'if': 1, 'needed': 1, 'aroma': 1, 'check': 1, 'hands': 1, 'filled': 1, 'papers': 1, 'sunset': 1, 'friend': 1, 'waiting': 1, 'corner': 1, 'deception': 1, 'keen': 1, 'traveled': 1, 'countryside': 1, 'breathtaking': 1, 'views': 1, 'nature': 1, 'newfound': 1, 'clarity': 1, 'concert': 1, 'favorite': 1, 'band': 1, 'perform': 1, 'live': 1, 'simplicity': 1, 'stroke': 1, 'brush': 1, 'hike': 1, 'rare': 1, 'bird': 1, 'forest': 1, 'future': 1, 'uncertainty': 1, 'looming': 1, 'tourist': 1, 'explored': 1, 'city': 1, 'famous': 1, 'landmarks': 1, 'mist': 1, 'steady': 1, 'gaze': 1, 'attended': 1, 'inspiring': 1, 'speakers': 1, 'truth': 1, 'unclouded': 1, 'vision': 1, 'visited': 1, 'art': 1, 'gallery': 1, 'stunning': 1, 'paintings': 1, 'sculptures': 1, 'detective': 1, 'suspect': 1, 'alibi': 1, 'careful': 1, 'scrutiny': 1, 'beach': 1, 'dolphins': 1, 'swimming': 1, 'ocean': 1, 'potential': 1, 'project': 1, 'perspective': 1, 'different': 1, 'cultures': 1, 'flaws': 1, 'plan': 1, 'critical': 1, 'analysis': 1, 'student': 1, 'library': 1, 'rows': 1, 'various': 1, 'subjects': 1, 'humor': 1, 'situation': 1, 'shared': 1, 'laugh': 1, 'zoo': 1, 'exotic': 1, 'animals': 1, 'opportunity': 1, 'excitement': 1, 'amusement': 1, 'thrilling': 1, 'rides': 1, 'attractions': 1, 'chaos': 1, 'unfolding': 1, 'urgency': 1, 'botanical': 1, 'garden': 1, 'colorful': 1, 'flowers': 1, 'plants': 1, 'stars': 1, 'awe-inspiring': 1, 'aquarium': 1, 'diverse': 1, 'marine': 1, 'life': 1, 'scientist': 1, 'patterns': 1, 'emerge': 1, 'each': 1, 'experiment': 1, 'theater': 1, 'captivating': 1, 'play': 1, 'imperfection': 1, 'market': 1, 'produce': 1, 'local': 1, 'goods': 1, 'danger': 1, 'quick': 1, 'assessment': 1, 'observatory': 1, 'distant': 1, 'galaxies': 1, 'telescope': 1, 'challenges': 1, 'determination': 1, 'hearts': 1, 'sports': 1, 'stadium': 1, 'intense': 1, 'match': 1, 'between': 1, 'rival': 1, 'teams': 1, 'explorer': 1, 'adventure': 1, 'planetarium': 1, 'fascinating': 1, 'presentation': 1, 'about': 1, 'cosmos': 1, 'silver': 1, 'lining': 1, 'cloud': 1, 'optimism': 1, 'historic': 1, 'site': 1, 'civilizations': 1})\n",
      "1108\n"
     ]
    }
   ],
   "source": [
    "fil=[word for word in words if word not in [',','.','!','?','\\'s'] ]\n",
    "count=Counter(fil)\n",
    "print(count)\n",
    "print(sum(count.values()))"
   ]
  },
  {
   "cell_type": "code",
   "execution_count": 9,
   "id": "662959f0-ba2b-41fc-a0d9-667c18d57eab",
   "metadata": {},
   "outputs": [
    {
     "name": "stdout",
     "output_type": "stream",
     "text": [
      "Counter({('a', 'phone'): 59, ('with', 'a'): 51, ('phone', 'and'): 20, ('and', 'saw'): 20, ('to', 'the'): 18, ('saw', 'the'): 15, ('went', 'to'): 14, ('and', 'occasionally'): 11, ('on', 'the'): 11, ('through', 'the'): 11, ('on', 'a'): 8, ('in', 'the'): 8, ('entered', 'the'): 6, ('phone', 'in'): 6, ('She', 'saw'): 6, ('in', 'her'): 5, ('down', 'the'): 5, ('at', 'the'): 5, ('He', 'saw'): 5, ('They', 'saw'): 5, ('and', 'a'): 4, ('a', 'sense'): 4, ('sense', 'of'): 4, ('They', 'went'): 4, ('phone', 'tucked'): 3, ('tucked', 'into'): 3, ('the', 'street'): 3, ('phone', 'buzzing'): 3, ('in', 'their'): 3, ('greeted', 'by'): 3, ('by', 'the'): 3, ('the', 'sight'): 3, ('sight', 'of'): 3, ('of', 'a'): 3, ('occasionally', 'glancing'): 3, ('glancing', 'at'): 3, ('at', 'a'): 3, ('around', 'the'): 3, ('the', 'museum'): 3, ('a', 'call'): 3, ('into', 'the'): 3, ('on', 'stage'): 3, ('saw', 'through'): 3, ('the', 'world'): 3, ('saw', 'a'): 3, ('She', 'went'): 3, ('He', 'went'): 3, ('The', 'chef'): 2, ('chef', 'cooked'): 2, ('cooked', 'dinner'): 2, ('occasionally', 'referring'): 2, ('referring', 'to'): 2, ('up', 'on'): 2, ('the', 'counter'): 2, ('John', 'entered'): 2, ('the', 'cafe'): 2, ('his', 'pocket'): 2, ('pocket', 'She'): 2, ('She', 'stood'): 2, ('stood', 'in'): 2, ('in', 'line'): 2, ('of', 'her'): 2, ('occasionally', 'checking'): 2, ('her', 'hand'): 2, ('The', 'teenager'): 2, ('teenager', 'sat'): 2, ('sat', 'on'): 2, ('the', 'bench'): 2, ('The', 'researcher'): 2, ('researcher', 'conducted'): 2, ('conducted', 'experiments'): 2, ('Sarah', 'hurried'): 2, ('hurried', 'down'): 2, ('street', 'with'): 2, ('They', 'sat'): 2, ('sat', 'in'): 2, ('the', 'car'): 2, ('adjusting', 'the'): 2, ('phone', 'connected'): 2, ('connected', 'to'): 2, ('the', 'stereo'): 2, ('stereo', 'system'): 2, ('The', 'delivery'): 2, ('delivery', 'person'): 2, ('person', 'arrived'): 2, ('arrived', 'at'): 2, ('the', 'doorstep'): 2, ('buzzing', 'in'): 2, ('their', 'pocket'): 2, ('pocket', 'The'): 2, ('The', 'doctor'): 2, ('doctor', 'entered'): 2, ('the', 'examination'): 2, ('examination', 'room'): 2, ('room', 'greeted'): 2, ('He', 'rushed'): 2, ('rushed', 'through'): 2, ('the', 'airport'): 2, ('in', 'his'): 2, ('He', 'drove'): 2, ('drove', 'down'): 2, ('the', 'highway'): 2, ('phone', 'mounted'): 2, ('mounted', 'on'): 2, ('the', 'dashboard'): 2, ('They', 'entered'): 2, ('the', 'meeting'): 2, ('meeting', 'room'): 2, ('room', 'with'): 2, ('the', 'table'): 2, ('She', 'strolled'): 2, ('strolled', 'through'): 2, ('the', 'park'): 2, ('her', 'purse'): 2, ('The', 'child'): 2, ('child', 'ran'): 2, ('ran', 'around'): 2, ('the', 'playground'): 2, ('They', 'wandered'): 2, ('wandered', 'through'): 2, ('She', 'sat'): 2, ('sat', 'at'): 2, ('the', 'café'): 2, ('phone', 'lying'): 2, ('her', 'coffee'): 2, ('The', 'librarian'): 2, ('librarian', 'walked'): 2, ('walked', 'through'): 2, ('the', 'aisles'): 2, ('occasionally', 'pausing'): 2, ('pausing', 'to'): 2, ('call', 'on'): 2, ('He', 'approached'): 2, ('approached', 'the'): 2, ('the', 'podium'): 2, ('The', 'musician'): 2, ('musician', 'performed'): 2, ('performed', 'on'): 2, ('phone', 'on'): 2, ('phone', 'placed'): 2, ('placed', 'on'): 2, ('for', 'a'): 2, ('coffee', 'and'): 2, ('museum', 'with'): 2, ('phone', 'She'): 2, ('park', 'with'): 2, ('and', 'the'): 2, ('the', 'conference'): 2, ('ready', 'to'): 2, ('She', 'walked'): 2, ('world', 'with'): 2, ('beauty', 'in'): 2, ('Sarah', 'went'): 2, ('John', 'went'): 2, ('artifacts', 'from'): 2, ('ahead', 'with'): 2, ('dinner', 'chopping'): 1, ('chopping', 'vegetables'): 1, ('vegetables', 'and'): 1, ('to', 'recipes'): 1, ('recipes', 'on'): 1, ('phone', 'propped'): 1, ('propped', 'up'): 1, ('counter', 'John'): 1, ('cafe', 'with'): 1, ('into', 'his'): 1, ('line', 'chatting'): 1, ('chatting', 'with'): 1, ('with', 'the'): 1, ('the', 'person'): 1, ('person', 'ahead'): 1, ('ahead', 'of'): 1, ('her', 'and'): 1, ('checking', 'the'): 1, ('the', 'time'): 1, ('time', 'on'): 1, ('hand', 'The'): 1, ('bench', 'with'): 1, ('in', 'hand'): 1, ('hand', 'lost'): 1, ('lost', 'in'): 1, ('in', 'thought'): 1, ('thought', 'The'): 1, ('experiments', 'carefully'): 1, ('carefully', 'documenting'): 1, ('documenting', 'their'): 1, ('their', 'findings'): 1, ('findings', 'and'): 1, ('to', 'notes'): 1, ('notes', 'on'): 1, ('phone', 'Sarah'): 1, ('phone', 'pressed'): 1, ('pressed', 'to'): 1, ('to', 'her'): 1, ('her', 'ear'): 1, ('ear', 'They'): 1, ('car', 'discussing'): 1, ('discussing', 'their'): 1, ('their', 'plans'): 1, ('plans', 'for'): 1, ('for', 'the'): 1, ('the', 'day'): 1, ('day', 'and'): 1, ('occasionally', 'adjusting'): 1, ('the', 'volume'): 1, ('volume', 'on'): 1, ('system', 'The'): 1, ('doorstep', 'with'): 1, ('a', 'patient'): 1, ('patient', 'and'): 1, ('buzzing', 'on'): 1, ('the', 'desk'): 1, ('desk', 'He'): 1, ('airport', 'with'): 1, ('phone', 'clutched'): 1, ('clutched', 'tightly'): 1, ('tightly', 'in'): 1, ('his', 'hand'): 1, ('hand', 'He'): 1, ('highway', 'singing'): 1, ('singing', 'along'): 1, ('along', 'to'): 1, ('the', 'radio'): 1, ('radio', 'and'): 1, ('dashboard', 'for'): 1, ('for', 'navigation'): 1, ('navigation', 'They'): 1, ('phone', 'resting'): 1, ('resting', 'on'): 1, ('table', 'She'): 1, ('park', 'enjoying'): 1, ('enjoying', 'the'): 1, ('the', 'sunshine'): 1, ('sunshine', 'and'): 1, ('checking', 'messages'): 1, ('messages', 'on'): 1, ('purse', 'The'): 1, ('playground', 'with'): 1, ('phone', 'dangling'): 1, ('dangling', 'from'): 1, ('from', 'their'): 1, ('their', 'backpack'): 1, ('backpack', 'They'): 1, ('museum', 'admiring'): 1, ('admiring', 'the'): 1, ('the', 'artwork'): 1, ('artwork', 'and'): 1, ('occasionally', 'snapping'): 1, ('snapping', 'photos'): 1, ('photos', 'with'): 1, ('phone', 'camera'): 1, ('camera', 'She'): 1, ('café', 'with'): 1, ('lying', 'beside'): 1, ('beside', 'her'): 1, ('coffee', 'cup'): 1, ('cup', 'The'): 1, ('aisles', 'shelving'): 1, ('shelving', 'books'): 1, ('books', 'and'): 1, ('to', 'answer'): 1, ('answer', 'a'): 1, ('phone', 'clipped'): 1, ('clipped', 'to'): 1, ('to', 'their'): 1, ('their', 'belt'): 1, ('belt', 'He'): 1, ('podium', 'with'): 1, ('the', 'inner'): 1, ('inner', 'pocket'): 1, ('pocket', 'of'): 1, ('of', 'his'): 1, ('his', 'suit'): 1, ('suit', 'The'): 1, ('stage', 'strumming'): 1, ('strumming', 'their'): 1, ('their', 'guitar'): 1, ('guitar', 'and'): 1, ('a', 'nearby'): 1, ('nearby', 'stand'): 1, ('stand', 'The'): 1, ('stage', 'with'): 1, ('the', 'amplifier'): 1, ('amplifier', 'He'): 1, ('podium', 'adjusting'): 1, ('the', 'microphone'): 1, ('microphone', 'and'): 1, ('and', 'clearing'): 1, ('clearing', 'his'): 1, ('his', 'throat'): 1, ('throat', 'before'): 1, ('before', 'reaching'): 1, ('reaching', 'for'): 1, ('aisles', 'with'): 1, ('phone', 'peeking'): 1, ('peeking', 'out'): 1, ('out', 'of'): 1, ('her', 'pocket'): 1, ('café', 'sipping'): 1, ('sipping', 'her'): 1, ('table', 'They'): 1, ('phone', 'capturing'): 1, ('capturing', 'every'): 1, ('every', 'exhibit'): 1, ('exhibit', 'The'): 1, ('playground', 'laughing'): 1, ('laughing', 'with'): 1, ('with', 'friends'): 1, ('friends', 'and'): 1, ('to', 'take'): 1, ('take', 'a'): 1, ('phone', 'playing'): 1, ('playing', 'music'): 1, ('music', 'in'): 1, ('hand', 'They'): 1, ('the', 'sound'): 1, ('sound', 'of'): 1, ('of', 'chatter'): 1, ('chatter', 'and'): 1, ('phone', 'lighting'): 1, ('lighting', 'up'): 1, ('conference', 'table'): 1, ('table', 'He'): 1, ('highway', 'with'): 1, ('dashboard', 'He'): 1, ('airport', 'searching'): 1, ('searching', 'for'): 1, ('for', 'his'): 1, ('his', 'gate'): 1, ('gate', 'with'): 1, ('in', 'one'): 1, ('one', 'hand'): 1, ('hand', 'and'): 1, ('and', 'his'): 1, ('his', 'boarding'): 1, ('boarding', 'pass'): 1, ('pass', 'in'): 1, ('the', 'other'): 1, ('other', 'The'): 1, ('the', 'lab'): 1, ('lab', 'coat'): 1, ('coat', 'The'): 1, ('doorstep', 'holding'): 1, ('holding', 'a'): 1, ('a', 'package'): 1, ('package', 'and'): 1, ('pocket', 'They'): 1, ('car', 'with'): 1, ('system', 'Sarah'): 1, ('street', 'struggling'): 1, ('struggling', 'to'): 1, ('to', 'juggle'): 1, ('juggle', 'her'): 1, ('her', 'groceries'): 1, ('groceries', 'and'): 1, ('phone', 'ringing'): 1, ('ringing', 'in'): 1, ('her', 'bag'): 1, ('bag', 'The'): 1, ('experiments', 'with'): 1, ('phone', 'recording'): 1, ('recording', 'every'): 1, ('every', 'step'): 1, ('step', 'The'): 1, ('bench', 'engrossed'): 1, ('engrossed', 'in'): 1, ('in', 'a'): 1, ('a', 'book'): 1, ('book', 'with'): 1, ('lying', 'forgotten'): 1, ('forgotten', 'beside'): 1, ('beside', 'them'): 1, ('them', 'She'): 1, ('line', 'with'): 1, ('purse', 'ready'): 1, ('to', 'make'): 1, ('make', 'a'): 1, ('call', 'if'): 1, ('if', 'needed'): 1, ('needed', 'John'): 1, ('cafe', 'greeted'): 1, ('the', 'aroma'): 1, ('aroma', 'of'): 1, ('of', 'coffee'): 1, ('counter', 'The'): 1, ('dinner', 'with'): 1, ('phone', 'nearby'): 1, ('nearby', 'ready'): 1, ('to', 'check'): 1, ('check', 'recipes'): 1, ('recipes', 'She'): 1, ('walked', 'into'): 1, ('the', 'room'): 1, ('room', 'her'): 1, ('her', 'hands'): 1, ('hands', 'filled'): 1, ('filled', 'with'): 1, ('with', 'papers'): 1, ('papers', 'and'): 1, ('the', 'sunset'): 1, ('sunset', 'with'): 1, ('of', 'wonder'): 1, ('wonder', 'She'): 1, ('walked', 'down'): 1, ('saw', 'her'): 1, ('her', 'friend'): 1, ('friend', 'waiting'): 1, ('waiting', 'at'): 1, ('the', 'corner'): 1, ('corner', 'He'): 1, ('the', 'deception'): 1, ('deception', 'with'): 1, ('a', 'keen'): 1, ('keen', 'eye'): 1, ('eye', 'He'): 1, ('He', 'traveled'): 1, ('traveled', 'to'): 1, ('the', 'countryside'): 1, ('countryside', 'with'): 1, ('saw', 'breathtaking'): 1, ('breathtaking', 'views'): 1, ('views', 'of'): 1, ('of', 'nature'): 1, ('nature', 'They'): 1, ('with', 'newfound'): 1, ('newfound', 'clarity'): 1, ('clarity', 'They'): 1, ('the', 'concert'): 1, ('concert', 'with'): 1, ('saw', 'their'): 1, ('their', 'favorite'): 1, ('favorite', 'band'): 1, ('band', 'perform'): 1, ('perform', 'live'): 1, ('live', 'The'): 1, ('The', 'artist'): 1, ('artist', 'saw'): 1, ('saw', 'beauty'): 1, ('in', 'simplicity'): 1, ('simplicity', 'with'): 1, ('with', 'every'): 1, ('every', 'stroke'): 1, ('stroke', 'of'): 1, ('of', 'the'): 1, ('the', 'brush'): 1, ('brush', 'Sarah'): 1, ('went', 'for'): 1, ('a', 'hike'): 1, ('hike', 'with'): 1, ('a', 'rare'): 1, ('rare', 'bird'): 1, ('bird', 'in'): 1, ('the', 'forest'): 1, ('forest', 'She'): 1, ('the', 'future'): 1, ('future', 'with'): 1, ('with', 'uncertainty'): 1, ('uncertainty', 'looming'): 1, ('looming', 'The'): 1, ('The', 'tourist'): 1, ('tourist', 'explored'): 1, ('explored', 'the'): 1, ('the', 'city'): 1, ('city', 'with'): 1, ('saw', 'famous'): 1, ('famous', 'landmarks'): 1, ('landmarks', 'He'): 1, ('the', 'mist'): 1, ('mist', 'with'): 1, ('a', 'steady'): 1, ('steady', 'gaze'): 1, ('gaze', 'He'): 1, ('He', 'attended'): 1, ('attended', 'the'): 1, ('conference', 'with'): 1, ('saw', 'inspiring'): 1, ('inspiring', 'speakers'): 1, ('speakers', 'on'): 1, ('stage', 'They'): 1, ('the', 'truth'): 1, ('truth', 'with'): 1, ('with', 'unclouded'): 1, ('unclouded', 'vision'): 1, ('vision', 'They'): 1, ('They', 'visited'): 1, ('visited', 'the'): 1, ('the', 'art'): 1, ('art', 'gallery'): 1, ('gallery', 'with'): 1, ('saw', 'stunning'): 1, ('stunning', 'paintings'): 1, ('paintings', 'and'): 1, ('and', 'sculptures'): 1, ('sculptures', 'The'): 1, ('The', 'detective'): 1, ('detective', 'saw'): 1, ('the', 'suspect'): 1, ('suspect', 'alibi'): 1, ('alibi', 'with'): 1, ('with', 'careful'): 1, ('careful', 'scrutiny'): 1, ('scrutiny', 'She'): 1, ('the', 'beach'): 1, ('beach', 'with'): 1, ('saw', 'dolphins'): 1, ('dolphins', 'swimming'): 1, ('swimming', 'in'): 1, ('the', 'ocean'): 1, ('ocean', 'She'): 1, ('the', 'potential'): 1, ('potential', 'in'): 1, ('the', 'project'): 1, ('project', 'with'): 1, ('a', 'fresh'): 1, ('fresh', 'perspective'): 1, ('perspective', 'John'): 1, ('saw', 'ancient'): 1, ('ancient', 'artifacts'): 1, ('from', 'different'): 1, ('different', 'cultures'): 1, ('cultures', 'He'): 1, ('the', 'flaws'): 1, ('flaws', 'in'): 1, ('the', 'plan'): 1, ('plan', 'with'): 1, ('with', 'critical'): 1, ('critical', 'analysis'): 1, ('analysis', 'The'): 1, ('The', 'student'): 1, ('student', 'went'): 1, ('the', 'library'): 1, ('library', 'with'): 1, ('saw', 'rows'): 1, ('rows', 'of'): 1, ('of', 'books'): 1, ('books', 'on'): 1, ('on', 'various'): 1, ('various', 'subjects'): 1, ('subjects', 'They'): 1, ('the', 'humor'): 1, ('humor', 'in'): 1, ('the', 'situation'): 1, ('situation', 'with'): 1, ('a', 'shared'): 1, ('shared', 'laugh'): 1, ('laugh', 'He'): 1, ('the', 'zoo'): 1, ('zoo', 'with'): 1, ('saw', 'exotic'): 1, ('exotic', 'animals'): 1, ('animals', 'from'): 1, ('from', 'around'): 1, ('world', 'She'): 1, ('the', 'opportunity'): 1, ('opportunity', 'with'): 1, ('of', 'excitement'): 1, ('excitement', 'They'): 1, ('the', 'amusement'): 1, ('amusement', 'park'): 1, ('saw', 'thrilling'): 1, ('thrilling', 'rides'): 1, ('rides', 'and'): 1, ('and', 'attractions'): 1, ('attractions', 'He'): 1, ('the', 'chaos'): 1, ('chaos', 'unfolding'): 1, ('unfolding', 'with'): 1, ('of', 'urgency'): 1, ('urgency', 'She'): 1, ('the', 'botanical'): 1, ('botanical', 'garden'): 1, ('garden', 'with'): 1, ('saw', 'colorful'): 1, ('colorful', 'flowers'): 1, ('flowers', 'and'): 1, ('and', 'plants'): 1, ('plants', 'They'): 1, ('the', 'stars'): 1, ('stars', 'with'): 1, ('with', 'awe-inspiring'): 1, ('awe-inspiring', 'wonder'): 1, ('wonder', 'He'): 1, ('the', 'aquarium'): 1, ('aquarium', 'with'): 1, ('saw', 'diverse'): 1, ('diverse', 'marine'): 1, ('marine', 'life'): 1, ('life', 'The'): 1, ('The', 'scientist'): 1, ('scientist', 'saw'): 1, ('saw', 'patterns'): 1, ('patterns', 'emerge'): 1, ('emerge', 'with'): 1, ('with', 'each'): 1, ('each', 'experiment'): 1, ('experiment', 'They'): 1, ('the', 'theater'): 1, ('theater', 'with'): 1, ('a', 'captivating'): 1, ('captivating', 'play'): 1, ('play', 'She'): 1, ('the', 'beauty'): 1, ('in', 'imperfection'): 1, ('imperfection', 'with'): 1, ('with', 'an'): 1, ('an', 'artist'): 1, ('artist', 'eye'): 1, ('eye', 'Sarah'): 1, ('the', 'market'): 1, ('market', 'with'): 1, ('saw', 'fresh'): 1, ('fresh', 'produce'): 1, ('produce', 'and'): 1, ('and', 'local'): 1, ('local', 'goods'): 1, ('goods', 'He'): 1, ('the', 'danger'): 1, ('danger', 'ahead'): 1, ('a', 'quick'): 1, ('quick', 'assessment'): 1, ('assessment', 'He'): 1, ('the', 'observatory'): 1, ('observatory', 'with'): 1, ('saw', 'distant'): 1, ('distant', 'galaxies'): 1, ('galaxies', 'through'): 1, ('through', 'a'): 1, ('a', 'telescope'): 1, ('telescope', 'They'): 1, ('the', 'challenges'): 1, ('challenges', 'ahead'): 1, ('with', 'determination'): 1, ('determination', 'in'): 1, ('their', 'hearts'): 1, ('hearts', 'They'): 1, ('the', 'sports'): 1, ('sports', 'stadium'): 1, ('stadium', 'with'): 1, ('saw', 'an'): 1, ('an', 'intense'): 1, ('intense', 'match'): 1, ('match', 'between'): 1, ('between', 'rival'): 1, ('rival', 'teams'): 1, ('teams', 'The'): 1, ('The', 'explorer'): 1, ('explorer', 'saw'): 1, ('of', 'adventure'): 1, ('adventure', 'She'): 1, ('the', 'planetarium'): 1, ('planetarium', 'with'): 1, ('a', 'fascinating'): 1, ('fascinating', 'presentation'): 1, ('presentation', 'about'): 1, ('about', 'the'): 1, ('the', 'cosmos'): 1, ('cosmos', 'She'): 1, ('the', 'silver'): 1, ('silver', 'lining'): 1, ('lining', 'in'): 1, ('in', 'every'): 1, ('every', 'cloud'): 1, ('cloud', 'with'): 1, ('with', 'optimism'): 1, ('optimism', 'John'): 1, ('the', 'historic'): 1, ('historic', 'site'): 1, ('site', 'with'): 1, ('saw', 'artifacts'): 1, ('from', 'ancient'): 1, ('ancient', 'civilizations'): 1})\n"
     ]
    }
   ],
   "source": [
    "big=list(bigrams(fil))\n",
    "big_count=Counter(big)\n",
    "print(big_count)"
   ]
  },
  {
   "cell_type": "code",
   "execution_count": 11,
   "id": "88a6badb-10f2-4934-878b-af97abcb9d7c",
   "metadata": {},
   "outputs": [
    {
     "name": "stdin",
     "output_type": "stream",
     "text": [
      "Enter the Noun: phone\n",
      "Enter the Verb: saw\n",
      "Enter the preposition: and\n"
     ]
    },
    {
     "name": "stdout",
     "output_type": "stream",
     "text": [
      "20\n",
      "count of noun: 59\n",
      "count of verb: 40\n",
      "pp with n: 20\n",
      "pp with v: 20\n",
      "Probability of noun: 0.3389830508474576\n",
      "Probability of verb: 0.5\n",
      "prob: 0.5\n",
      "FINAL: -1.0818051703517284\n",
      "The Preposition is attached with Noun\n"
     ]
    }
   ],
   "source": [
    "noun=input(\"Enter the Noun:\")\n",
    "verb=input(\"Enter the Verb:\")\n",
    "prep=input(\"Enter the preposition:\")\n",
    "\n",
    "c_noun=count[noun]\n",
    "c_verb=count[verb]\n",
    "c_np=big_count[(noun,prep)] +big_count[(prep,noun)]\n",
    "print(c_np)\n",
    "c_vp=big_count[(verb,prep)] + big_count[(prep,verb)]\n",
    "print(\"count of noun:\",c_noun)\n",
    "print(\"count of verb:\",c_verb)\n",
    "print(\"pp with n:\",c_np)\n",
    "print(\"pp with v:\",c_vp)\n",
    "p_n=c_np/c_noun\n",
    "print(\"Probability of noun:\",p_n)\n",
    "p_v=c_vp/c_verb\n",
    "print(\"Probability of verb:\",p_v)\n",
    "p_vv=1- p_v\n",
    "print(\"prob:\",p_vv)\n",
    "final_pro=(p_n * p_vv)/p_v\n",
    "final_prob=np.log(final_pro)\n",
    "print(\"FINAL:\",final_prob)\n",
    "if final_prob > 0:\n",
    "    print(\"The Preposition is attached with Verb\")\n",
    "elif final_prob < 0:\n",
    "    print(\"The Preposition is attached with Noun\")\n",
    "else:\n",
    "    print(\"The Preposition attachment cannot be determined\")"
   ]
  },
  {
   "cell_type": "code",
   "execution_count": null,
   "id": "92aa6696-ccde-4841-8913-9989a1bbea0f",
   "metadata": {},
   "outputs": [],
   "source": []
  }
 ],
 "metadata": {
  "kernelspec": {
   "display_name": "Python 3 (ipykernel)",
   "language": "python",
   "name": "python3"
  },
  "language_info": {
   "codemirror_mode": {
    "name": "ipython",
    "version": 3
   },
   "file_extension": ".py",
   "mimetype": "text/x-python",
   "name": "python",
   "nbconvert_exporter": "python",
   "pygments_lexer": "ipython3",
   "version": "3.11.5"
  }
 },
 "nbformat": 4,
 "nbformat_minor": 5
}
