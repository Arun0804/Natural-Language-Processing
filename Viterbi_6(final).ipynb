{
 "cells": [
  {
   "cell_type": "code",
   "execution_count": 5,
   "id": "8aa34e24-b51d-4c1e-942e-b76e8c04b4af",
   "metadata": {},
   "outputs": [
    {
     "name": "stdin",
     "output_type": "stream",
     "text": [
      "Enter the state:  lem\n"
     ]
    },
    {
     "name": "stdout",
     "output_type": "stream",
     "text": [
      "0.21\n",
      "CP\n",
      "0.09\n",
      "CP\n"
     ]
    },
    {
     "name": "stdin",
     "output_type": "stream",
     "text": [
      "Enter the state:  ice_tea\n"
     ]
    },
    {
     "name": "stdout",
     "output_type": "stream",
     "text": [
      "0.0315\n",
      "IP\n",
      "0.0315\n",
      "IP\n"
     ]
    },
    {
     "name": "stdin",
     "output_type": "stream",
     "text": [
      "Enter the state:  cola\n"
     ]
    },
    {
     "name": "stdout",
     "output_type": "stream",
     "text": [
      "0.01323\n",
      "CP\n",
      "0.00567\n",
      "CP\n",
      "\n",
      "Best state sequence using delta/psi (Viterbi): CP → IP → CP → CP\n",
      "Probability of best sequence: 0.01323\n"
     ]
    }
   ],
   "source": [
    "# Exp 6: Viterbi sequence\n",
    "emission_probs = {\n",
    "    \"CP\": {\"cola\": 0.6, \"ice_tea\": 0.1, \"lem\": 0.3},\n",
    "    \"IP\": {\"cola\": 0.1, \"ice_tea\": 0.7, \"lem\": 0.2}\n",
    "}\n",
    "\n",
    "alpha_a = 1\n",
    "alpha_b = 0\n",
    "\n",
    "# Store delta values for backtracking delta stores maximum value of the respective state\n",
    "delta_cp = [alpha_a]\n",
    "delta_ip = [alpha_b]\n",
    "\n",
    "# Store psi values for backtracking # psi stores maximum state\n",
    "psi_cp = [\"CP\"]\n",
    "psi_ip = [\"CP\"]\n",
    "\n",
    "# To reconstruct final sequence\n",
    "emission_seq = []\n",
    "\n",
    "for i in range(3):\n",
    "    state = input(\"Enter the state: \")\n",
    "    emission_seq.append(state)\n",
    "    \n",
    "    old_alpha_a = alpha_a\n",
    "    old_alpha_b = alpha_b\n",
    "\n",
    "    alpha_a = max(old_alpha_a * 0.7 * emission_probs[\"CP\"][state],\n",
    "                  old_alpha_b * 0.5 * emission_probs[\"IP\"][state])\n",
    "    print(alpha_a)\n",
    "    if old_alpha_a * 0.7 * emission_probs[\"CP\"][state] > old_alpha_b * 0.5 * emission_probs[\"IP\"][state]:\n",
    "        print(\"CP\")\n",
    "        psi_cp.append(\"CP\")\n",
    "    else:\n",
    "        print(\"IP\")\n",
    "        psi_cp.append(\"IP\")\n",
    "\n",
    "    alpha_b = max(old_alpha_a * 0.3 * emission_probs[\"CP\"][state],\n",
    "                  old_alpha_b * 0.5 * emission_probs[\"IP\"][state])\n",
    "    print(alpha_b)\n",
    "    if old_alpha_a * 0.3 * emission_probs[\"CP\"][state] > old_alpha_b * 0.5 * emission_probs[\"IP\"][state]:\n",
    "        print(\"CP\")\n",
    "        psi_ip.append(\"CP\")\n",
    "    else:\n",
    "        print(\"IP\")\n",
    "        psi_ip.append(\"IP\")\n",
    "\n",
    "    delta_cp.append(alpha_a)\n",
    "    delta_ip.append(alpha_b)\n",
    "\n",
    "# Final best sequence reconstruction\n",
    "final_best_path = [\"\"] * 4\n",
    "\n",
    "# Step 1: Choose last state based on max delta\n",
    "if delta_cp[-1] > delta_ip[-1]:\n",
    "    final_best_path[3] = \"CP\"\n",
    "else:\n",
    "    final_best_path[3] = \"IP\"\n",
    "\n",
    "# Step 2: Backtrack using psi values\n",
    "for t in range(2, -1, -1):\n",
    "    if final_best_path[t + 1] == \"CP\":\n",
    "        final_best_path[t] = psi_cp[t + 1]\n",
    "    else:\n",
    "        final_best_path[t] = psi_ip[t + 1]\n",
    "\n",
    "# Print final best state sequence\n",
    "print(\"\\nBest state sequence using delta/psi (Viterbi):\", \" → \".join(final_best_path))\n",
    "print(\"Probability of best sequence:\", max(delta_cp[-1], delta_ip[-1]))\n"
   ]
  },
  {
   "cell_type": "code",
   "execution_count": null,
   "id": "12535564-b015-4f65-b37f-40d44afc1f01",
   "metadata": {},
   "outputs": [],
   "source": []
  }
 ],
 "metadata": {
  "kernelspec": {
   "display_name": "Python 3 (ipykernel)",
   "language": "python",
   "name": "python3"
  },
  "language_info": {
   "codemirror_mode": {
    "name": "ipython",
    "version": 3
   },
   "file_extension": ".py",
   "mimetype": "text/x-python",
   "name": "python",
   "nbconvert_exporter": "python",
   "pygments_lexer": "ipython3",
   "version": "3.11.5"
  }
 },
 "nbformat": 4,
 "nbformat_minor": 5
}
