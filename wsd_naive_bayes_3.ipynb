{
 "cells": [
  {
   "cell_type": "code",
   "execution_count": 7,
   "id": "f6cbe2c9",
   "metadata": {},
   "outputs": [
    {
     "name": "stdout",
     "output_type": "stream",
     "text": [
      "Collecting openpyxl==3.1.2\n",
      "  Obtaining dependency information for openpyxl==3.1.2 from https://files.pythonhosted.org/packages/6a/94/a59521de836ef0da54aaf50da6c4da8fb4072fb3053fa71f052fd9399e7a/openpyxl-3.1.2-py2.py3-none-any.whl.metadata\n",
      "  Downloading openpyxl-3.1.2-py2.py3-none-any.whl.metadata (2.5 kB)\n",
      "Requirement already satisfied: et-xmlfile in c:\\users\\91986\\anaconda3\\lib\\site-packages (from openpyxl==3.1.2) (1.1.0)\n",
      "Downloading openpyxl-3.1.2-py2.py3-none-any.whl (249 kB)\n",
      "   ---------------------------------------- 0.0/250.0 kB ? eta -:--:--\n",
      "   - -------------------------------------- 10.2/250.0 kB ? eta -:--:--\n",
      "   --- ----------------------------------- 20.5/250.0 kB 217.9 kB/s eta 0:00:02\n",
      "   ------ -------------------------------- 41.0/250.0 kB 281.8 kB/s eta 0:00:01\n",
      "   --------------- ---------------------- 102.4/250.0 kB 590.8 kB/s eta 0:00:01\n",
      "   ---------------------------------------- 250.0/250.0 kB 1.2 MB/s eta 0:00:00\n",
      "Installing collected packages: openpyxl\n",
      "  Attempting uninstall: openpyxl\n",
      "    Found existing installation: openpyxl 3.0.10\n",
      "    Uninstalling openpyxl-3.0.10:\n",
      "      Successfully uninstalled openpyxl-3.0.10\n",
      "Note: you may need to restart the kernel to use updated packages.\n"
     ]
    },
    {
     "name": "stderr",
     "output_type": "stream",
     "text": [
      "ERROR: Could not install packages due to an OSError: [WinError 5] Access is denied: 'C:\\\\Users\\\\91986\\\\anaconda3\\\\Lib\\\\site-packages\\\\~penpyxl\\\\utils\\\\cell.cp311-win_amd64.pyd'\n",
      "Consider using the `--user` option or check the permissions.\n",
      "\n"
     ]
    }
   ],
   "source": [
    "pip install openpyxl==3.1.2\n"
   ]
  },
  {
   "cell_type": "code",
   "execution_count": 10,
   "id": "bc418723",
   "metadata": {},
   "outputs": [
    {
     "name": "stdout",
     "output_type": "stream",
     "text": [
      "Requirement already satisfied: openpyxl==3.1.2 in c:\\users\\91986\\anaconda3\\lib\\site-packages (3.1.2)\n",
      "Requirement already satisfied: et-xmlfile in c:\\users\\91986\\anaconda3\\lib\\site-packages (from openpyxl==3.1.2) (1.1.0)\n",
      "Note: you may need to restart the kernel to use updated packages.\n"
     ]
    }
   ],
   "source": [
    "pip install openpyxl==3.1.2 --user\n"
   ]
  },
  {
   "cell_type": "code",
   "execution_count": 8,
   "id": "cd0dde54",
   "metadata": {},
   "outputs": [
    {
     "name": "stdout",
     "output_type": "stream",
     "text": [
      "Type in a sentence to solve the disambiguation: i am in bank\n",
      "The meaning is River Border\n",
      "Financial Institution score: -3.8498596505721396\n",
      "River Border score: -3.582660449744618\n"
     ]
    },
    {
     "data": {
      "text/plain": [
       "'\\nFormula:\\n    p(class) = count(class) / total classes\\n\\n    p(word|class) = (count(word|class) + 1) / (count(class) + vocabulary size)\\n'"
      ]
     },
     "execution_count": 8,
     "metadata": {},
     "output_type": "execute_result"
    }
   ],
   "source": [
    "import pandas as pd\n",
    "import numpy as np\n",
    "from nltk.tokenize import word_tokenize\n",
    "from nltk.corpus import stopwords\n",
    "import string\n",
    "import math\n",
    "\n",
    "# Load the data\n",
    "df = pd.read_excel(\"Bank.xlsx\")  # Use read_excel instead of read_csv for .xlsx files\n",
    "\n",
    "# Splitting into train and test\n",
    "test = df.iloc[95:, 1:]\n",
    "train = df.iloc[:93, 1:]\n",
    "\n",
    "# Counting classes\n",
    "fin_class = 0\n",
    "riv_class = 0\n",
    "\n",
    "# Creating dictionaries for separate classes\n",
    "fin_dic = {}\n",
    "riv_dic = {}\n",
    "\n",
    "# Iterating through the training data\n",
    "for index, col in train.iterrows():\n",
    "    sentence = col['Sentences for Training ']\n",
    "    classes = col['Sense of the word \\\"Bank\\\"']\n",
    "    \n",
    "    tokens = word_tokenize(sentence)\n",
    "    tokens = [token.lower() for token in tokens if token.lower() not in stopwords.words('english') and token not in string.punctuation]\n",
    "    \n",
    "    if classes == \"Financial Institution\":\n",
    "        fin_class += 1\n",
    "        for token in tokens:\n",
    "            fin_dic[token] = fin_dic.get(token, 0) + 1\n",
    "    elif classes == \"River Border\":\n",
    "        riv_class += 1\n",
    "        for token in tokens:\n",
    "            riv_dic[token] = riv_dic.get(token, 0) + 1\n",
    "\n",
    "# Vocabulary size\n",
    "v = len(set(riv_dic.keys()).union(set(fin_dic.keys())))\n",
    "\n",
    "# Input sentence\n",
    "sentence = input(\"Type in a sentence to solve the disambiguation: \")\n",
    "toks = word_tokenize(sentence)\n",
    "toks = [tok.lower() for tok in toks if tok.lower() not in stopwords.words('english') and tok not in string.punctuation]\n",
    "\n",
    "# Class probabilities (prior)\n",
    "class_1_score = math.log2((fin_class) / (fin_class + riv_class))\n",
    "class_2_score = math.log2((riv_class) / (fin_class + riv_class))\n",
    "\n",
    "# Likelihoods\n",
    "for tok in toks:\n",
    "    class_1_score += math.log2((fin_dic.get(tok, 0) + 1) / (fin_class + v))\n",
    "    class_2_score += math.log2((riv_dic.get(tok, 0) + 1) / (riv_class + v))\n",
    "\n",
    "# Decision\n",
    "if class_1_score > class_2_score:\n",
    "    print(\"The meaning is Financial Institution\")\n",
    "else:\n",
    "    print(\"The meaning is River Border\")\n",
    "\n",
    "# Show scores\n",
    "print(\"Financial Institution score:\", class_1_score)\n",
    "print(\"River Border score:\", class_2_score)\n",
    "\n",
    "'''\n",
    "Formula:\n",
    "    p(class) = count(class) / total classes\n",
    "\n",
    "    p(word|class) = (count(word|class) + 1) / (count(class) + vocabulary size)\n",
    "'''\n"
   ]
  },
  {
   "cell_type": "code",
   "execution_count": 6,
   "id": "399864c0",
   "metadata": {},
   "outputs": [
    {
     "data": {
      "text/plain": [
       "['children', 'skipped', 'stones', 'across', 'calm', 'bank', 'river']"
      ]
     },
     "execution_count": 6,
     "metadata": {},
     "output_type": "execute_result"
    }
   ],
   "source": [
    "tokens"
   ]
  },
  {
   "cell_type": "code",
   "execution_count": 7,
   "id": "1d4fac94",
   "metadata": {},
   "outputs": [
    {
     "data": {
      "text/plain": [
       "{'deposited': 1,\n",
       " 'paycheck': 1,\n",
       " 'bank': 42,\n",
       " 'works': 5,\n",
       " 'teller': 1,\n",
       " 'approved': 1,\n",
       " 'loan': 3,\n",
       " 'application': 1,\n",
       " 'need': 17,\n",
       " 'transfer': 4,\n",
       " 'funds': 2,\n",
       " 'banks': 1,\n",
       " 'open': 2,\n",
       " '9': 1,\n",
       " '5': 1,\n",
       " 'pm': 1,\n",
       " 'check': 7,\n",
       " 'account': 6,\n",
       " 'balance': 2,\n",
       " 'invested': 1,\n",
       " 'savings': 4,\n",
       " 'stock': 1,\n",
       " 'market': 1,\n",
       " 'withdrew': 1,\n",
       " 'cash': 1,\n",
       " 'atm': 2,\n",
       " 'offers': 6,\n",
       " 'various': 1,\n",
       " 'financial': 8,\n",
       " 'services': 3,\n",
       " 'customers': 2,\n",
       " 'applied': 1,\n",
       " 'mortgage': 2,\n",
       " 'buy': 1,\n",
       " 'house': 1,\n",
       " \"'s\": 6,\n",
       " 'profits': 1,\n",
       " 'soared': 1,\n",
       " 'last': 1,\n",
       " 'quarter': 1,\n",
       " 'interest': 2,\n",
       " 'rates': 4,\n",
       " 'analyst': 1,\n",
       " 'money': 2,\n",
       " 'overseas': 1,\n",
       " 'manager': 2,\n",
       " 'greeted': 1,\n",
       " 'warm': 1,\n",
       " 'smile': 1,\n",
       " 'institution': 2,\n",
       " 'security': 2,\n",
       " 'system': 1,\n",
       " 'prevented': 1,\n",
       " 'robbery': 1,\n",
       " 'hey': 1,\n",
       " \"'re\": 1,\n",
       " 'planning': 2,\n",
       " 'new': 2,\n",
       " 'branch': 1,\n",
       " 'city': 2,\n",
       " 'center': 1,\n",
       " 'offered': 1,\n",
       " 'competitive': 2,\n",
       " 'accounts': 2,\n",
       " 'provided': 2,\n",
       " 'construction': 1,\n",
       " 'home': 1,\n",
       " 'visit': 2,\n",
       " 'deposit': 4,\n",
       " 'headquarters': 2,\n",
       " 'located': 2,\n",
       " 'district': 1,\n",
       " 'update': 3,\n",
       " 'information': 2,\n",
       " 'online': 2,\n",
       " 'banking': 3,\n",
       " 'convenience': 1,\n",
       " 'officer': 1,\n",
       " 'exchange': 1,\n",
       " 'traveling': 1,\n",
       " 'assistance': 1,\n",
       " 'small': 1,\n",
       " 'businesses': 1,\n",
       " 'schedule': 1,\n",
       " 'meeting': 1,\n",
       " 'credit': 2,\n",
       " 'cards': 1,\n",
       " 'attractive': 1,\n",
       " 'rewards': 1,\n",
       " 'guard': 1,\n",
       " 'apprehended': 1,\n",
       " 'thief': 1,\n",
       " 'sister': 1,\n",
       " 'advisor': 1,\n",
       " 'direct': 1,\n",
       " 'investment': 1,\n",
       " 'opportunities': 1,\n",
       " 'long-term': 1,\n",
       " 'growth': 1,\n",
       " 'provides': 1,\n",
       " 'excellent': 1,\n",
       " 'customer': 1,\n",
       " 'service': 1,\n",
       " 'password': 1,\n",
       " 'corporate': 1,\n",
       " 'checking': 2,\n",
       " 'retirement': 1,\n",
       " 'planner': 1,\n",
       " 'make': 1,\n",
       " 'withdrawal': 1,\n",
       " 'apply': 1,\n",
       " 'card': 1}"
      ]
     },
     "execution_count": 7,
     "metadata": {},
     "output_type": "execute_result"
    }
   ],
   "source": [
    "fin_dic"
   ]
  },
  {
   "cell_type": "code",
   "execution_count": null,
   "id": "c3fca329",
   "metadata": {},
   "outputs": [],
   "source": []
  }
 ],
 "metadata": {
  "kernelspec": {
   "display_name": "Python 3 (ipykernel)",
   "language": "python",
   "name": "python3"
  },
  "language_info": {
   "codemirror_mode": {
    "name": "ipython",
    "version": 3
   },
   "file_extension": ".py",
   "mimetype": "text/x-python",
   "name": "python",
   "nbconvert_exporter": "python",
   "pygments_lexer": "ipython3",
   "version": "3.11.5"
  }
 },
 "nbformat": 4,
 "nbformat_minor": 5
}
