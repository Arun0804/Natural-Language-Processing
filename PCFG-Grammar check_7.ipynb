{
 "cells": [
  {
   "cell_type": "code",
   "execution_count": 1,
   "id": "c3ed5afe-817d-4d65-a6dc-b7ead5ac9a86",
   "metadata": {},
   "outputs": [],
   "source": [
    "from nltk import PCFG, ViterbiParser, InsideChartParser\n",
    "import numpy as np\n",
    "import pandas as pd"
   ]
  },
  {
   "cell_type": "code",
   "execution_count": 3,
   "id": "d28323c7-ab0b-49bd-bbe6-2d478a5b507c",
   "metadata": {},
   "outputs": [],
   "source": [
    "grammar = PCFG.fromstring(\"\"\"\n",
    "S -> NP VP [1.0]\n",
    "VP -> V NP [0.7] | VP PP [0.3]\n",
    "NP -> Det N [0.5] | NP PP [0.2] | 'John' [0.3]\n",
    "PP -> P NP [1.0]\n",
    "V -> 'saw' [0.2] | 'ate' [0.8]\n",
    "Det -> 'the' [0.6] | 'a' [0.4]\n",
    "N -> 'man' [0.5] | 'telescope' [0.5]\n",
    "P -> 'with' [0.4] | 'in' [0.6]\n",
    "\"\"\")\n",
    "parser = ViterbiParser(grammar)\n",
    "\n",
    "sentence = \"John saw a man with a telescope\"\n",
    "tokens = sentence.split()"
   ]
  },
  {
   "cell_type": "code",
   "execution_count": 5,
   "id": "2e9724f7-90c4-4836-bbd7-82b48e364f09",
   "metadata": {},
   "outputs": [
    {
     "name": "stdout",
     "output_type": "stream",
     "text": [
      "(S\n",
      "  (NP John)\n",
      "  (VP\n",
      "    (VP (V saw) (NP (Det a) (N man)))\n",
      "    (PP (P with) (NP (Det a) (N telescope))))) (p=5.04e-05)\n"
     ]
    }
   ],
   "source": [
    "for tree in parser.parse(tokens):\n",
    "    print(tree)"
   ]
  },
  {
   "cell_type": "code",
   "execution_count": 7,
   "id": "c92bc626-5417-44bf-a964-18dd0201dd72",
   "metadata": {},
   "outputs": [
    {
     "name": "stdout",
     "output_type": "stream",
     "text": [
      "                  S                    \n",
      "      ____________|____                 \n",
      "     |                 VP              \n",
      "     |        _________|___             \n",
      "     |       |             NP          \n",
      "     |       |     ________|____        \n",
      "     |       |    |             PP     \n",
      "     |       |    |         ____|___    \n",
      "     NP      V    NP       P        NP \n",
      "     |       |    |        |        |   \n",
      "astronomers saw stars     with     ears\n",
      "\n"
     ]
    }
   ],
   "source": [
    "import nltk\n",
    "from nltk.grammar import PCFG\n",
    "from nltk.parse.viterbi import ViterbiParser\n",
    "from nltk.tree import Tree\n",
    "\n",
    "grammar = PCFG.fromstring(\"\"\"\n",
    "S -> NP VP [1.0]\n",
    "PP -> P NP [1.0]\n",
    "VP -> V NP [0.7] | VP PP [0.3]\n",
    "P -> 'with' [1.0]\n",
    "V -> 'saw' [1.0]\n",
    "NP -> NP PP [0.4] | 'astronomers' [0.1] | 'ears' [0.18] | 'saw' [0.04] | 'stars' [0.28]\n",
    "\"\"\")\n",
    "parser = ViterbiParser(grammar)\n",
    "sentence = \"astronomers saw stars with ears\"\n",
    "tokens = sentence.split()\n",
    "try:\n",
    "    for tree in parser.parse(tokens):\n",
    "        tree.pretty_print()\n",
    "except:\n",
    "    print(\"No Parse tree found\")"
   ]
  },
  {
   "cell_type": "code",
   "execution_count": 9,
   "id": "ef6c9d10-75d7-4c66-bb1e-d88f8d3f2713",
   "metadata": {},
   "outputs": [
    {
     "name": "stdout",
     "output_type": "stream",
     "text": [
      "The sentence \"the cat chased the dog\" is grammatically correct with a probability of: 0.00048599999999999994\n",
      "The sentence \"the dog chased the cat\" is grammatically correct with a probability of: 0.00048599999999999994\n",
      "The sentence \"the dog chased the bird\" is grammatically correct with a probability of: 0.00048599999999999994\n",
      "NOT GRAMMATICALLY CORRECT\n"
     ]
    }
   ],
   "source": [
    "pcfg = nltk.PCFG.fromstring(\"\"\"\n",
    "S -> NP VP [0.9] | VP [0.1]\n",
    "VP -> V NP [0.5] | V [0.5]\n",
    "NP -> Det N [0.3] | N [0.7]\n",
    "N -> 'cat' [0.2] | 'book' [0.2] | 'bird' [0.2] | 'dog' [0.4]\n",
    "V -> 'read' [0.1] | 'chased' [0.6] | 'ate' [0.3]\n",
    "Det -> 'the' [0.5] | 'a' [0.5]\n",
    "\"\"\")\n",
    "\n",
    "sentences = [\n",
    "    'the cat chased the dog',\n",
    "    'the dog chased the cat',\n",
    "    'the dog chased the bird',\n",
    "    'book read'\n",
    "]\n",
    "\n",
    "def CYK(pcfg, sentence):\n",
    "    n = len(sentence)\n",
    "    table = [[[] for _ in range(n)] for _ in range(n)]\n",
    "    for i in range(n):\n",
    "        for prod in pcfg.productions(rhs=sentence[i]):\n",
    "            table[i][i] = [(prod.lhs(), prod.prob())]\n",
    "    for length in range(2, n+1):\n",
    "        for i in range(n-length+1):\n",
    "            j = i+length-1\n",
    "            for k in range(i,j):\n",
    "                for prod in pcfg.productions():\n",
    "                    for left, left_prob in table[i][k]:\n",
    "                        for right, right_prob in table[k+1][j]:\n",
    "                            if prod.rhs() == (left,right):\n",
    "                                prob = left_prob*right_prob*prod.prob()\n",
    "                                if table[i][j] is None:\n",
    "                                    table[i][j] = [(prod.lhs(),prob)]\n",
    "                                else:\n",
    "                                    table[i][j].append((prod.lhs(),prob))\n",
    "    if pcfg.start() in [lhs for lhs, prob in table[0][n-1]]:\n",
    "        for lhs, prob in table[0][n-1]:\n",
    "            if lhs == pcfg.start():\n",
    "                return prob\n",
    "    return 0.0\n",
    "\n",
    "for sent in sentences:\n",
    "    prob = CYK(pcfg,sent.lower().split())\n",
    "    if prob > 0:\n",
    "        print(f'The sentence \"{sent}\" is grammatically correct with a probability of: {prob}')\n",
    "    else:\n",
    "        print(f'NOT GRAMMATICALLY CORRECT')"
   ]
  },
  {
   "cell_type": "code",
   "execution_count": null,
   "id": "06c69906-b8d5-46f6-b991-760a8e5f1c6a",
   "metadata": {},
   "outputs": [],
   "source": []
  }
 ],
 "metadata": {
  "kernelspec": {
   "display_name": "Python [conda env:base] *",
   "language": "python",
   "name": "conda-base-py"
  },
  "language_info": {
   "codemirror_mode": {
    "name": "ipython",
    "version": 3
   },
   "file_extension": ".py",
   "mimetype": "text/x-python",
   "name": "python",
   "nbconvert_exporter": "python",
   "pygments_lexer": "ipython3",
   "version": "3.12.7"
  }
 },
 "nbformat": 4,
 "nbformat_minor": 5
}
