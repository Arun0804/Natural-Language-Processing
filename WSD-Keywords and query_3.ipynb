{
 "cells": [
  {
   "cell_type": "code",
   "execution_count": 1,
   "id": "dfd681b3-d10a-4a28-b5ce-e36d0d915bfe",
   "metadata": {},
   "outputs": [],
   "source": [
    "data={\n",
    "    \"f\":[(\"put\",\"coat\",\"back\",\"chair\",\"sat\",\"down\"),(\"chair\",\"made\",\"timber\",\"company\"),(\"Type\",\"differennt\",\"chair\",\"Award\",\"fun\",\"use\")],\n",
    "    \"p\":[(\"Chair\",\"institue\",\"best\"),(\"Award\",\"IT\",\"Chair\")]\n",
    "}\n",
    "\n",
    "voc=[\"put\",\"coat\",\"Chair\",\"back\",\"sat\",\"down\",\"made\",\"timber\",\"company\",\"Award\",\"IT\",\"institute\",\"best\",\"ype\",\"different\",\"fun\",\"use\"]"
   ]
  },
  {
   "cell_type": "code",
   "execution_count": 2,
   "id": "4e47d218-6c2f-4cfb-a5b7-b8a4973b5238",
   "metadata": {},
   "outputs": [],
   "source": [
    "query=[\"Award\",\"Chair\",\"IT\",\"company\"]\n",
    "total_words=len(voc)"
   ]
  },
  {
   "cell_type": "code",
   "execution_count": 3,
   "id": "696dba12-a17c-4a7b-9da1-53e7083b0426",
   "metadata": {},
   "outputs": [],
   "source": [
    "count = 0\n",
    "f_prob_word_given_chair = 0.0\n",
    "p_prob_word_given_chair = 0.0\n",
    "f_word_count = {}\n",
    "p_word_count = {}\n",
    "\n",
    "# Processing the dataset\n",
    "for category in data:\n",
    "    for sentence in data[category]:\n",
    "        count += 1\n",
    "        for word in sentence:\n",
    "            if category == \"f\":\n",
    "                if word.lower() == \"chair\":\n",
    "                    f_prob_word_given_chair += 1.0\n",
    "                if word in f_word_count:\n",
    "                    f_word_count[word] += 1\n",
    "                else:\n",
    "                    f_word_count[word] = 1\n",
    "            else:\n",
    "                if word.lower() == \"chair\": \n",
    "                    p_prob_word_given_chair += 1.0\n",
    "                if word in p_word_count:\n",
    "                    p_word_count[word] += 1\n",
    "                else:\n",
    "                    p_word_count[word] = 1\n",
    "\n",
    "f_prob_chair = f_prob_word_given_chair / count\n",
    "p_prob_chair = p_prob_word_given_chair / count\n",
    "\n",
    "prob_f = []\n",
    "prob_p = []\n",
    "for word in query:\n",
    "    count_f = f_word_count.get(word, 0)\n",
    "    count_p = p_word_count.get(word, 0)\n",
    "    \n",
    "    conditional_prob_f = (count_f + 1) / (f_prob_word_given_chair + total_words)\n",
    "    conditional_prob_p = (count_p + 1) / (p_prob_word_given_chair + total_words)\n",
    "    \n",
    "    prob_f.append(conditional_prob_f)\n",
    "    prob_p.append(conditional_prob_p)\n"
   ]
  },
  {
   "cell_type": "code",
   "execution_count": 4,
   "id": "43772d97-89bf-48a8-8d17-8bcfddf4baf6",
   "metadata": {},
   "outputs": [],
   "source": [
    "import math"
   ]
  },
  {
   "cell_type": "code",
   "execution_count": 5,
   "id": "09a9f4a1-4087-407d-b641-2f4a3399d61c",
   "metadata": {},
   "outputs": [
    {
     "name": "stdout",
     "output_type": "stream",
     "text": [
      "-16.024677973715654\n",
      "-14.60964047443681\n",
      "The sense of 'Chair' is position.  -14.60964047443681\n"
     ]
    }
   ],
   "source": [
    "\n",
    "final_score_p = math.log2(p_prob_chair)\n",
    "final_score_f = math.log2(f_prob_chair)\n",
    "for prob_f_word in prob_f:\n",
    "    final_score_f += math.log2(prob_f_word)\n",
    "for prob_p_word in prob_p:\n",
    "    final_score_p += math.log2(prob_f_word)\n",
    "print(final_score_f)\n",
    "print(final_score_p)\n",
    "if final_score_f>final_score_p:\n",
    "    print(\"The sense of 'Chair' is furniture. \",final_score_f)\n",
    "else:\n",
    "    print(\"The sense of 'Chair' is position. \",final_score_p)\n"
   ]
  },
  {
   "cell_type": "code",
   "execution_count": null,
   "id": "b12f075a-6b36-40b7-aa4b-f17e5e8119c7",
   "metadata": {},
   "outputs": [],
   "source": []
  }
 ],
 "metadata": {
  "kernelspec": {
   "display_name": "Python 3 (ipykernel)",
   "language": "python",
   "name": "python3"
  },
  "language_info": {
   "codemirror_mode": {
    "name": "ipython",
    "version": 3
   },
   "file_extension": ".py",
   "mimetype": "text/x-python",
   "name": "python",
   "nbconvert_exporter": "python",
   "pygments_lexer": "ipython3",
   "version": "3.11.5"
  }
 },
 "nbformat": 4,
 "nbformat_minor": 5
}
