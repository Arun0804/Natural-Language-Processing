{
 "cells": [
  {
   "cell_type": "code",
   "execution_count": 33,
   "id": "d37bc2ac-b11e-4547-a3c2-0d5422b2f21f",
   "metadata": {},
   "outputs": [
    {
     "name": "stdin",
     "output_type": "stream",
     "text": [
      "Enter the visible state (K or T):  S\n",
      "Enter the visible state (K or T):  T\n",
      "Enter the visible state (K or T):  K\n"
     ]
    },
    {
     "name": "stdout",
     "output_type": "stream",
     "text": [
      "Alpha values for state A: [0.21, 0.0462, 0.021293999999999993]\n",
      "Alpha values for state B: [0.09, 0.0378, 0.010206]\n",
      "Final probability of the observation sequence: 0.03149999999999999\n"
     ]
    }
   ],
   "source": [
    "# Forward Procedure with explicit backups for both alpha_a and alpha_b\n",
    "\n",
    "emission_probs = {\n",
    "     'A': {'K': 0.6, 'T': 0.1,'S':0.3},\n",
    "    'B': {'K': 0.1, 'T': 0.7,'S':0.2}\n",
    "}\n",
    "\n",
    "# Initial state probabilities\n",
    "alpha_a = 1\n",
    "alpha_b = 0\n",
    "\n",
    "# Lists to store values for each time step\n",
    "alpha_A = []\n",
    "alpha_B = []\n",
    "\n",
    "# Loop through 3 observations\n",
    "for i in range(3):\n",
    "    state = input(\"Enter the visible state (K or T): \")\n",
    "\n",
    "    # Backup both alpha_a and alpha_b\n",
    "    prev_alpha_a = alpha_a\n",
    "    prev_alpha_b = alpha_b\n",
    "\n",
    "    # Update using ONLY previous values\n",
    "    alpha_a = (prev_alpha_a * 0.7 * emission_probs[\"A\"][state]) + \\\n",
    "              (prev_alpha_b * 0.5 * emission_probs[\"B\"][state])\n",
    "    \n",
    "    alpha_b = (prev_alpha_a * 0.3 * emission_probs[\"A\"][state]) + \\\n",
    "              (prev_alpha_b * 0.5 * emission_probs[\"B\"][state])\n",
    "\n",
    "    # Save current step values\n",
    "    alpha_A.append(alpha_a)\n",
    "    alpha_B.append(alpha_b)\n",
    "\n",
    "# Final forward probability\n",
    "final_prob = alpha_a + alpha_b\n",
    "\n",
    "# Print all results\n",
    "print(\"Alpha values for state A:\", alpha_A)\n",
    "print(\"Alpha values for state B:\", alpha_B)\n",
    "print(\"Final probability of the observation sequence:\", final_prob)\n"
   ]
  },
  {
   "cell_type": "code",
   "execution_count": 34,
   "id": "4224180a-f12d-4f28-ae04-d21686b89298",
   "metadata": {},
   "outputs": [
    {
     "name": "stdin",
     "output_type": "stream",
     "text": [
      "Enter the visible state (K/T/S):  S\n",
      "Enter the visible state (K/T/S):  T\n",
      "Enter the visible state (K/T/S):  K\n"
     ]
    },
    {
     "name": "stdout",
     "output_type": "stream",
     "text": [
      "Beta values for state A: [0.0315, 0.045, 0.6]\n",
      "Beta values for state B: [0.029, 0.245, 0.1]\n",
      "Final probability of the observation sequence: 0.0315\n"
     ]
    }
   ],
   "source": [
    "# Exp5: Backward Procedure\n",
    "\n",
    "emission_probs = {\n",
    "    'A': {'K': 0.6, 'T': 0.1, 'S': 0.3},\n",
    "    'B': {'K': 0.1, 'T': 0.7, 'S': 0.2}\n",
    "}\n",
    "\n",
    "# Initial backward probabilities (from future to present)\n",
    "beta_1 = 1\n",
    "beta_2 = 1\n",
    "\n",
    "# Lists to store beta values at each step (reverse time steps)\n",
    "beta_A = []\n",
    "beta_B = []\n",
    "\n",
    "# We'll read the observed sequence first (to go in reverse later)\n",
    "obs_sequence = []\n",
    "for i in range(3):\n",
    "    state = input(\"Enter the visible state (K/T/S): \")\n",
    "    obs_sequence.append(state)\n",
    "\n",
    "# Perform backward algorithm from time T-1 to time 0\n",
    "for t in reversed(range(3)):\n",
    "    state = obs_sequence[t]\n",
    "\n",
    "    # Backup previous beta values\n",
    "    prev_beta_1 = beta_1\n",
    "    prev_beta_2 = beta_2\n",
    "\n",
    "    # Update beta values using transition and emission probabilities\n",
    "    beta_1 = (0.7 * emission_probs['A'][state] * prev_beta_1) + \\\n",
    "             (0.3 * emission_probs['A'][state] * prev_beta_2)\n",
    "\n",
    "    beta_2 = (0.5 * emission_probs['B'][state] * prev_beta_1) + \\\n",
    "             (0.5 * emission_probs['B'][state] * prev_beta_2)\n",
    "\n",
    "    # Append current values\n",
    "    beta_A.insert(0, beta_1)  # insert at front to match original order\n",
    "    beta_B.insert(0, beta_2)\n",
    "\n",
    "# Initial alpha values\n",
    "alpha_a = 1\n",
    "alpha_b = 0\n",
    "\n",
    "# Final backward probability (at time t=0)\n",
    "final_prob = alpha_a * beta_1 + alpha_b * beta_2\n",
    "\n",
    "# Output\n",
    "print(\"Beta values for state A:\", beta_A)\n",
    "print(\"Beta values for state B:\", beta_B)\n",
    "print(\"Final probability of the observation sequence:\", final_prob)\n"
   ]
  },
  {
   "cell_type": "code",
   "execution_count": 36,
   "id": "753c4839-3a8c-4d96-9032-05b5d607e39a",
   "metadata": {},
   "outputs": [
    {
     "name": "stdout",
     "output_type": "stream",
     "text": [
      "Gamma values at each time step:\n",
      "Time 1: γ_A = 1.0000, γ_B = 0.0000\n",
      "Time 2: γ_A = 0.3000, γ_B = 0.7000\n",
      "Time 3: γ_A = 0.8800, γ_B = 0.1200\n",
      "Time 4: γ_A = 0.6761, γ_B = 0.3239\n",
      "\n",
      "Most likely state sequence:\n",
      "State A State B State A State A "
     ]
    }
   ],
   "source": [
    "# Hardcoded alpha and beta values for 4 time steps\n",
    "alpha_A = [1, 0.21, 0.0462, 0.02129]     # A = Cola Preferring\n",
    "beta_A  = [0.0315, 0.045, 0.6, 1]\n",
    "\n",
    "alpha_B = [0, 0.09, 0.0378, 0.01020]     # B = Iced Tea Preferring\n",
    "beta_B  = [0.029, 0.245, 0.1, 1]\n",
    "\n",
    "gamma_A = []\n",
    "gamma_B = []\n",
    "\n",
    "# Calculate gamma values using forward and backward\n",
    "print(\"Gamma values at each time step:\")\n",
    "for t in range(4):\n",
    "    numerator_A = alpha_A[t] * beta_A[t]\n",
    "    numerator_B = alpha_B[t] * beta_B[t]\n",
    "    denominator = numerator_A + numerator_B\n",
    "\n",
    "    gamma_a = numerator_A / denominator\n",
    "    gamma_b = numerator_B / denominator\n",
    "\n",
    "    gamma_A.append(gamma_a)\n",
    "    gamma_B.append(gamma_b)\n",
    "\n",
    "    print(f\"Time {t+1}: γ_A = {gamma_a:.4f}, γ_B = {gamma_b:.4f}\")\n",
    "\n",
    "# Most likely state sequence\n",
    "print(\"\\nMost likely state sequence:\")\n",
    "for t in range(4):\n",
    "    if gamma_A[t] > gamma_B[t]:\n",
    "        print(\"State A\", end=\" \")\n",
    "    else:\n",
    "        print(\"State B\", end=\" \")\n"
   ]
  },
  {
   "cell_type": "code",
   "execution_count": null,
   "id": "c49ffee8-c146-41fc-a5c9-a0e13d47e944",
   "metadata": {},
   "outputs": [],
   "source": []
  }
 ],
 "metadata": {
  "kernelspec": {
   "display_name": "Python 3 (ipykernel)",
   "language": "python",
   "name": "python3"
  },
  "language_info": {
   "codemirror_mode": {
    "name": "ipython",
    "version": 3
   },
   "file_extension": ".py",
   "mimetype": "text/x-python",
   "name": "python",
   "nbconvert_exporter": "python",
   "pygments_lexer": "ipython3",
   "version": "3.12.5"
  }
 },
 "nbformat": 4,
 "nbformat_minor": 5
}
